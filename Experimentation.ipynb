{
 "cells": [
  {
   "cell_type": "markdown",
   "metadata": {},
   "source": [
    "# Imports"
   ]
  },
  {
   "cell_type": "code",
   "execution_count": 3,
   "metadata": {},
   "outputs": [
    {
     "name": "stderr",
     "output_type": "stream",
     "text": [
      "/home/gaspa/.local/lib/python3.10/site-packages/matplotlib/projections/__init__.py:63: UserWarning: Unable to import Axes3D. This may be due to multiple versions of Matplotlib being installed (e.g. as a system package and as a pip package). As a result, the 3D projection is not available.\n",
      "  warnings.warn(\"Unable to import Axes3D. This may be due to multiple versions of \"\n"
     ]
    }
   ],
   "source": [
    "import numpy as np\n",
    "import matplotlib.pyplot as plt\n",
    "import pandas as pd"
   ]
  },
  {
   "cell_type": "code",
   "execution_count": 4,
   "metadata": {},
   "outputs": [],
   "source": [
    "def drawview(matrice):\n",
    "    #matrice is like [column of x values, column of y values]\n",
    "    x = matrice[:,0]\n",
    "    y = matrice[:,1]\n",
    "    plt.scatter(x, y)\n",
    "    plt.show()"
   ]
  },
  {
   "cell_type": "code",
   "execution_count": null,
   "metadata": {},
   "outputs": [],
   "source": [
    "# drawview(np.array(np.random.rand(500,2)))"
   ]
  },
  {
   "cell_type": "code",
   "execution_count": 5,
   "metadata": {},
   "outputs": [],
   "source": [
    "df = pd.read_csv('test.csv', delimiter=',')\n",
    "df = df.rename(columns=lambda x: x.strip())\n",
    "ef = pd.read_csv('sample_submission.csv', delimiter=',')\n",
    "ef = ef.rename(columns=lambda x: x.strip())"
   ]
  },
  {
   "cell_type": "code",
   "execution_count": 62,
   "metadata": {},
   "outputs": [],
   "source": [
    "def fix_nonintdata (df):\n",
    "    # this transform the data that are not numbers into numbers\n",
    "    # first we create a cursor that scan every column\n",
    "    for column in df.columns:\n",
    "        # then we check if the column is not a number\n",
    "        if df[column].dtype == 'object':\n",
    "            # if it is not a number, we add every possible value to a dictionnary\n",
    "            convert_dict = {}\n",
    "            for i, value in enumerate(df[column].unique()):\n",
    "                convert_dict[value] = i\n",
    "            # then we replace the value by the corresponding number\n",
    "            df[column] = df[column].map(convert_dict)\n",
    "    \n",
    "    return df"
   ]
  },
  {
   "cell_type": "code",
   "execution_count": 63,
   "metadata": {},
   "outputs": [
    {
     "name": "stdout",
     "output_type": "stream",
     "text": [
      "        Id  MSSubClass  MSZoning  LotFrontage  LotArea  Street  Alley  \\\n",
      "0     1461          20         0         80.0    11622       0      0   \n",
      "1     1462          20         1         81.0    14267       0      0   \n",
      "2     1463          60         1         74.0    13830       0      0   \n",
      "3     1464          60         1         78.0     9978       0      0   \n",
      "4     1465         120         1         43.0     5005       0      0   \n",
      "...    ...         ...       ...          ...      ...     ...    ...   \n",
      "1454  2915         160         2         21.0     1936       0      0   \n",
      "1455  2916         160         2         21.0     1894       0      0   \n",
      "1456  2917          20         1        160.0    20000       0      0   \n",
      "1457  2918          85         1         62.0    10441       0      0   \n",
      "1458  2919          60         1         74.0     9627       0      0   \n",
      "\n",
      "      LotShape  LandContour  Utilities  ...  ScreenPorch  PoolArea  PoolQC  \\\n",
      "0            0            0          0  ...          120         0       0   \n",
      "1            1            0          0  ...            0         0       0   \n",
      "2            1            0          0  ...            0         0       0   \n",
      "3            1            0          0  ...            0         0       0   \n",
      "4            1            1          0  ...          144         0       0   \n",
      "...        ...          ...        ...  ...          ...       ...     ...   \n",
      "1454         0            0          0  ...            0         0       0   \n",
      "1455         0            0          0  ...            0         0       0   \n",
      "1456         0            0          0  ...            0         0       0   \n",
      "1457         0            0          0  ...            0         0       0   \n",
      "1458         0            0          0  ...            0         0       0   \n",
      "\n",
      "      Fence  MiscFeature  MiscVal  MoSold  YrSold  SaleType  SaleCondition  \n",
      "0         0            0        0       6    2010         0              0  \n",
      "1         1            1    12500       6    2010         0              0  \n",
      "2         0            0        0       3    2010         0              0  \n",
      "3         1            0        0       6    2010         0              0  \n",
      "4         1            0        0       1    2010         0              0  \n",
      "...     ...          ...      ...     ...     ...       ...            ...  \n",
      "1454      1            0        0       6    2006         0              0  \n",
      "1455      1            0        0       4    2006         0              2  \n",
      "1456      1            0        0       9    2006         0              2  \n",
      "1457      0            2      700       7    2006         0              0  \n",
      "1458      1            0        0      11    2006         0              0  \n",
      "\n",
      "[1459 rows x 80 columns]\n"
     ]
    }
   ],
   "source": [
    "print(fix_nonintdata(df))"
   ]
  },
  {
   "cell_type": "code",
   "execution_count": 64,
   "metadata": {},
   "outputs": [],
   "source": [
    "ncols = df.shape[1]\n",
    "param = df.columns[1:]\n",
    "price = ef.columns[1:]\n",
    "X = fix_nonintdata(df[param]).to_numpy()\n",
    "Y = ef[price].to_numpy()"
   ]
  },
  {
   "cell_type": "code",
   "execution_count": 65,
   "metadata": {},
   "outputs": [],
   "source": [
    "# get n and p values here\n",
    "n, p = X.shape"
   ]
  },
  {
   "cell_type": "code",
   "execution_count": 66,
   "metadata": {},
   "outputs": [],
   "source": [
    "# add column with constant one to X here\n",
    "one = np.ones( (n, 1), dtype=X.dtype)\n",
    "X = np.hstack( [one, X] )"
   ]
  },
  {
   "cell_type": "code",
   "execution_count": 67,
   "metadata": {},
   "outputs": [],
   "source": [
    "# compute beta 9493in a numpy array here\n",
    "beta = np.linalg.inv(X.T @ X) @ X.T @ Y"
   ]
  }
 ],
 "metadata": {
  "kernelspec": {
   "display_name": "Python 3",
   "language": "python",
   "name": "python3"
  },
  "language_info": {
   "codemirror_mode": {
    "name": "ipython",
    "version": 3
   },
   "file_extension": ".py",
   "mimetype": "text/x-python",
   "name": "python",
   "nbconvert_exporter": "python",
   "pygments_lexer": "ipython3",
   "version": "3.10.12"
  }
 },
 "nbformat": 4,
 "nbformat_minor": 2
}
