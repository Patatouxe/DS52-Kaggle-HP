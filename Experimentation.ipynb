{
 "cells": [
  {
   "cell_type": "markdown",
   "metadata": {},
   "source": [
    "# Imports"
   ]
  },
  {
   "cell_type": "code",
   "execution_count": 26,
   "metadata": {},
   "outputs": [],
   "source": [
    "import numpy as np\n",
    "import matplotlib.pyplot as plt\n",
    "import csv"
   ]
  },
  {
   "cell_type": "code",
   "execution_count": 24,
   "metadata": {},
   "outputs": [],
   "source": [
    "def drawview(matrice):\n",
    "    #matrice is like [column for x axis, column for y axis, column for data]\n",
    "    x = matrice[:,0]\n",
    "    y = matrice[:,1]\n",
    "    data = matrice[:,2]\n",
    "    plt.scatter(x, y, c=data)\n",
    "    plt.show()"
   ]
  },
  {
   "cell_type": "code",
   "execution_count": 29,
   "metadata": {},
   "outputs": [
    {
     "data": {
      "text/plain": [
       "array([['Id', 'MSSubClass', 'MSZoning', ..., 'YrSold', 'SaleType',\n",
       "        'SaleCondition'],\n",
       "       ['1461', '20', 'RH', ..., '2010', 'WD', 'Normal'],\n",
       "       ['1462', '20', 'RL', ..., '2010', 'WD', 'Normal'],\n",
       "       ...,\n",
       "       ['2917', '20', 'RL', ..., '2006', 'WD', 'Abnorml'],\n",
       "       ['2918', '85', 'RL', ..., '2006', 'WD', 'Normal'],\n",
       "       ['2919', '60', 'RL', ..., '2006', 'WD', 'Normal']], dtype='<U13')"
      ]
     },
     "execution_count": 29,
     "metadata": {},
     "output_type": "execute_result"
    }
   ],
   "source": [
    "DATA = csv.reader(open('test.csv', 'r'), delimiter=',')\n",
    "DATA = np.array(list(DATA))\n"
   ]
  }
 ],
 "metadata": {
  "kernelspec": {
   "display_name": "Python 3",
   "language": "python",
   "name": "python3"
  },
  "language_info": {
   "codemirror_mode": {
    "name": "ipython",
    "version": 3
   },
   "file_extension": ".py",
   "mimetype": "text/x-python",
   "name": "python",
   "nbconvert_exporter": "python",
   "pygments_lexer": "ipython3",
   "version": "3.10.12"
  }
 },
 "nbformat": 4,
 "nbformat_minor": 2
}
